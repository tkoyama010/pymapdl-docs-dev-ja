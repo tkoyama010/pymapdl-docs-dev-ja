{
  "cells": [
    {
      "cell_type": "markdown",
      "metadata": {},
      "source": [
        "\n\n# Structural Analysis of a Lathe Cutter\n\nBasic walk through PyMAPDL capabilities.\n\n## Objective\n\nThe objective of this example is to highlight some regularly used\nPyMAPDL features via a lathe cutter finite element model. Lathe\ncutters have multiple avenues of wear and failure, and the analyses\nsupporting their design would most often be transient\nthermal-structural. However, for simplicity, this simulation\nexample uses a non-uniform load.\n\n.. figure:: ../../../images/lathe_cutter_model.png\n    :align: center\n    :width: 600\n    :alt:  Lathe cutter geometry and load description.\n    :figclass: align-center\n\n    **Figure 1: Lathe cutter geometry and load description.**\n\n\n\n## Contents\n\n1. **Variables and launch**\n   Define necessary variables and launch MAPDL.\n\n2. **Geometry, mesh, and MAPDL parameters**\n   Import geometry and inspect for MAPDL parameters. Define linear\n   elastic material model with Python variables. Mesh and apply symmetry\n   boundary conditions.\n\n3. **Coordinate system and load**\n   Create a local coordinate system for the applied load and verify with\n   a plot.\n\n4. **Pressure load**\n   Define the pressure load as a sine function of the length of the\n   application area using numpy arrays. Import the pressure array into\n   MAPDL as a table array. Verify the applied load and solve.\n\n5. **Plotting**\n   Show result plotting, plotting with selection, and working with the\n   plot legend.\n\n6. **Postprocessing:**\n   List a result two ways: use PyMAPDL and the Pythonic version of APDL.\n   Demonstrate extended methods and writing a list to a file.\n\n7. **Advanced plotting**\n   Use of :class:`pyvista.UnstructuredGrid`\n   for additional postprocessing.\n\n\n## Step 1: Variables and launch\n\nDefine variables and launch MAPDL.\n"
      ]
    },
    {
      "cell_type": "code",
      "execution_count": null,
      "metadata": {
        "collapsed": false
      },
      "outputs": [],
      "source": [
        "import os\n\nimport numpy as np\n\nfrom ansys.mapdl.core import launch_mapdl\nfrom ansys.mapdl.core.examples.downloads import download_example_data\n\n# cwd = current working directory\npath = os.getcwd()\nPI = np.pi\nEXX = 1.0e7\nNU = 0.27"
      ]
    },
    {
      "cell_type": "markdown",
      "metadata": {},
      "source": [
        "Often used MAPDL command line options are exposed as Pythonic parameter names in\n:func:`ansys.mapdl.core.launcher.launch_mapdl`. For example, ``-dir``\nhas become ``run_location``.\nYou could use ``run_location`` to specify the MAPDL run location. For example:\n\n.. code:: python3\n\n   mapdl = launch_mapdl(run_location=path)\n\nOtherwise, the MAPDL working directory is stored in ``mapdl.directory``. In this\ndirectory, MAPDL will create some of the images we will show later.\n\nOptions without a Pythonic version can be accessed by the ``additional_switches``\nparameter.\nHere ``-smp`` is used only to keep the number of solver files to a minimum.\n\n"
      ]
    },
    {
      "cell_type": "code",
      "execution_count": null,
      "metadata": {
        "collapsed": false
      },
      "outputs": [],
      "source": [
        "mapdl = launch_mapdl(additional_switches=\"-smp\")"
      ]
    },
    {
      "cell_type": "markdown",
      "metadata": {},
      "source": [
        "## Step 2: Geometry, mesh, and MAPDL parameters\n\n- Import geometry and inspect for MAPDL parameters.\n- Define material and mesh, and then create boundary conditions.\n\n\n"
      ]
    },
    {
      "cell_type": "code",
      "execution_count": null,
      "metadata": {
        "collapsed": false
      },
      "outputs": [],
      "source": [
        "# First, reset the MAPDL database.\nmapdl.clear()"
      ]
    },
    {
      "cell_type": "markdown",
      "metadata": {},
      "source": [
        "Import the geometry file and list any MAPDL parameters.\n\n"
      ]
    },
    {
      "cell_type": "code",
      "execution_count": null,
      "metadata": {
        "collapsed": false
      },
      "outputs": [],
      "source": [
        "lathe_cutter_geo = download_example_data(\"LatheCutter.anf\", \"geometry\")\nmapdl.input(lathe_cutter_geo)\nmapdl.finish()\nprint(mapdl.parameters)"
      ]
    },
    {
      "cell_type": "markdown",
      "metadata": {},
      "source": [
        "Use pressure area per length in the load definition.\n\n"
      ]
    },
    {
      "cell_type": "code",
      "execution_count": null,
      "metadata": {
        "collapsed": false
      },
      "outputs": [],
      "source": [
        "pressure_length = mapdl.parameters[\"PRESS_LENGTH\"]\n\nprint(mapdl.parameters)"
      ]
    },
    {
      "cell_type": "markdown",
      "metadata": {},
      "source": [
        "Change the units and title.\n\n"
      ]
    },
    {
      "cell_type": "code",
      "execution_count": null,
      "metadata": {
        "collapsed": false
      },
      "outputs": [],
      "source": [
        "mapdl.units(\"Bin\")\nmapdl.title(\"Lathe Cutter\")"
      ]
    },
    {
      "cell_type": "markdown",
      "metadata": {},
      "source": [
        "Set material properties.\n\n"
      ]
    },
    {
      "cell_type": "code",
      "execution_count": null,
      "metadata": {
        "collapsed": false
      },
      "outputs": [],
      "source": [
        "mapdl.prep7()\nmapdl.mp(\"EX\", 1, EXX)\nmapdl.mp(\"NUXY\", 1, NU)"
      ]
    },
    {
      "cell_type": "markdown",
      "metadata": {},
      "source": [
        "The MAPDL element type ``SOLID285`` is used for demonstration purposes.\nConsider using an appropriate element type or mesh density for your actual\napplication.\n\n"
      ]
    },
    {
      "cell_type": "code",
      "execution_count": null,
      "metadata": {
        "collapsed": false
      },
      "outputs": [],
      "source": [
        "mapdl.et(1, 285)\nmapdl.smrtsize(4)\nmapdl.aesize(14, 0.0025)\nmapdl.vmesh(1)\n\nmapdl.da(11, \"symm\")\nmapdl.da(16, \"symm\")\nmapdl.da(9, \"symm\")\nmapdl.da(10, \"symm\")"
      ]
    },
    {
      "cell_type": "markdown",
      "metadata": {},
      "source": [
        "## Step 3: Coordinate system and load\n\nCreate a local Coordinate System (CS) for the applied pressure as a function\nof local X.\n\nLocal CS ID is 11\n\n"
      ]
    },
    {
      "cell_type": "code",
      "execution_count": null,
      "metadata": {
        "collapsed": false
      },
      "outputs": [],
      "source": [
        "mapdl.cskp(11, 0, 2, 1, 13)\nmapdl.csys(1)\nmapdl.view(1, -1, 1, 1)\nmapdl.psymb(\"CS\", 1)\nmapdl.vplot(\n    color_areas=True,\n    show_lines=True,\n    cpos=[-1, 1, 1],\n    smooth_shading=True,\n)"
      ]
    },
    {
      "cell_type": "markdown",
      "metadata": {},
      "source": [
        "VTK plots do not show MAPDL plot symbols.\nHowever, to use MAPDL plotting capabilities, you can set the keyword\noption ``vtk`` to ``False``.\n\n"
      ]
    },
    {
      "cell_type": "code",
      "execution_count": null,
      "metadata": {
        "collapsed": false
      },
      "outputs": [],
      "source": [
        "mapdl.lplot(vtk=False)"
      ]
    },
    {
      "cell_type": "markdown",
      "metadata": {},
      "source": [
        "## Step 4: Pressure load\n\nCreate a pressure load, load it into MAPDL as a table array, verify the load,\nand solve.\n\n"
      ]
    },
    {
      "cell_type": "code",
      "execution_count": null,
      "metadata": {
        "collapsed": false
      },
      "outputs": [],
      "source": [
        "# pressure_length = 0.055 inch\n\npts = 10\npts_1 = pts - 1\n\nlength_x = np.arange(0, pts, 1)\nlength_x = length_x * pressure_length / pts_1\n\npress = 10000 * (np.sin(PI * length_x / pressure_length))"
      ]
    },
    {
      "cell_type": "markdown",
      "metadata": {},
      "source": [
        "``length_x`` and ``press`` are vectors. To combine them into the correct\nform needed to define the MAPDL table array, you can use\n[numpy.stack](https://numpy.org/doc/stable/reference/generated/numpy.stack.html).\n\n"
      ]
    },
    {
      "cell_type": "code",
      "execution_count": null,
      "metadata": {
        "collapsed": false
      },
      "outputs": [],
      "source": [
        "press = np.stack((length_x, press), axis=-1)\nmapdl.load_table(\"MY_PRESS\", press, \"X\", csysid=11)\n\nmapdl.asel(\"S\", \"Area\", \"\", 14)\nmapdl.nsla(\"S\", 1)\nmapdl.sf(\"All\", \"Press\", \"%MY_PRESS%\")\nmapdl.allsel()"
      ]
    },
    {
      "cell_type": "markdown",
      "metadata": {},
      "source": [
        "You can open the MAPDL GUI to check the model.\n\n.. code:: python\n\n    mapdl.open_gui()\n\n\n\n"
      ]
    },
    {
      "cell_type": "markdown",
      "metadata": {},
      "source": [
        "Set up the solution.\n\n"
      ]
    },
    {
      "cell_type": "code",
      "execution_count": null,
      "metadata": {
        "collapsed": false
      },
      "outputs": [],
      "source": [
        "mapdl.finish()\nmapdl.slashsolu()\nmapdl.nlgeom(\"On\")\nmapdl.psf(\"PRES\", \"NORM\", 3, 0, 1)\nmapdl.view(1, -1, 1, 1)\nmapdl.eplot(vtk=False)"
      ]
    },
    {
      "cell_type": "markdown",
      "metadata": {},
      "source": [
        "Solve the model.\n\n"
      ]
    },
    {
      "cell_type": "code",
      "execution_count": null,
      "metadata": {
        "collapsed": false
      },
      "outputs": [],
      "source": [
        "mapdl.solve()\nmapdl.finish()\nif mapdl.solution.converged:\n    print(\"The solution has converged.\")"
      ]
    },
    {
      "cell_type": "markdown",
      "metadata": {},
      "source": [
        "## Step 5: Plotting\n\n\n"
      ]
    },
    {
      "cell_type": "code",
      "execution_count": null,
      "metadata": {
        "collapsed": false
      },
      "outputs": [],
      "source": [
        "mapdl.post1()\nmapdl.set(\"last\")\nmapdl.allsel()\n\nmapdl.post_processing.plot_nodal_principal_stress(\"1\", smooth_shading=False)"
      ]
    },
    {
      "cell_type": "markdown",
      "metadata": {},
      "source": [
        "### Plotting - Part of Model\n\n\n"
      ]
    },
    {
      "cell_type": "code",
      "execution_count": null,
      "metadata": {
        "collapsed": false
      },
      "outputs": [],
      "source": [
        "mapdl.csys(1)\nmapdl.nsel(\"S\", \"LOC\", \"Z\", -0.5, -0.141)\nmapdl.esln()\nmapdl.nsle()\nmapdl.post_processing.plot_nodal_principal_stress(\n    \"1\", edge_color=\"white\", show_edges=True\n)"
      ]
    },
    {
      "cell_type": "markdown",
      "metadata": {},
      "source": [
        "### Plotting - Legend Options\n\n\n"
      ]
    },
    {
      "cell_type": "code",
      "execution_count": null,
      "metadata": {
        "collapsed": false
      },
      "outputs": [],
      "source": [
        "mapdl.allsel()\nsbar_kwargs = {\n    \"color\": \"black\",\n    \"title\": \"1st Principal Stress (psi)\",\n    \"vertical\": False,\n    \"n_labels\": 6,\n}\nmapdl.post_processing.plot_nodal_principal_stress(\n    \"1\",\n    cpos=\"xy\",\n    background=\"white\",\n    edge_color=\"black\",\n    show_edges=True,\n    scalar_bar_args=sbar_kwargs,\n    n_colors=9,\n)"
      ]
    },
    {
      "cell_type": "markdown",
      "metadata": {},
      "source": [
        "Let's try out some scalar bar options from the\n[PyVista documentation](pyvista_docs_).\nFor example, let's set black text on a beige background.\n\nThe scalar bar keywords defined as a Python dictionary are an alternate\nmethod to using {key:value}'s.\nYou can use the click-and drag method to reposition the scalar bar.\nLeft-click it and hold down the left mouse button while moving the mouse.\n\n"
      ]
    },
    {
      "cell_type": "code",
      "execution_count": null,
      "metadata": {
        "collapsed": false
      },
      "outputs": [],
      "source": [
        "sbar_kwargs = dict(\n    title_font_size=20,\n    label_font_size=16,\n    shadow=True,\n    n_labels=9,\n    italic=True,\n    bold=True,\n    fmt=\"%.1f\",\n    font_family=\"arial\",\n    title=\"1st Principal Stress (psi)\",\n    color=\"black\",\n)\n\nmapdl.post_processing.plot_nodal_principal_stress(\n    \"1\",\n    cpos=\"xy\",\n    edge_color=\"black\",\n    background=\"beige\",\n    show_edges=True,\n    scalar_bar_args=sbar_kwargs,\n    n_colors=256,\n    cmap=\"jet\",\n)\n\n# cmap names *_r usually reverses values.  Try cmap='jet_r'"
      ]
    },
    {
      "cell_type": "markdown",
      "metadata": {},
      "source": [
        "## Step 6: Postprocessing\n\n### Results List\n\nGet all principal nodal stresses.\n\n"
      ]
    },
    {
      "cell_type": "code",
      "execution_count": null,
      "metadata": {
        "collapsed": false
      },
      "outputs": [],
      "source": [
        "mapdl.post_processing.nodal_principal_stress(\"1\")"
      ]
    },
    {
      "cell_type": "markdown",
      "metadata": {},
      "source": [
        "Get the principal nodal stresses of the node subset.\n\n"
      ]
    },
    {
      "cell_type": "code",
      "execution_count": null,
      "metadata": {
        "collapsed": false
      },
      "outputs": [],
      "source": [
        "mapdl.nsel(\"S\", vmin=1200, vmax=1210)\nmapdl.esln()\nmapdl.nsle()\n\nprint(\"The node numbers are:\")\nprint(mapdl.mesh.nnum)  # get node numbers\n\nprint(\"The principal nodal stresses are:\")\nmapdl.post_processing.nodal_principal_stress(\"1\")"
      ]
    },
    {
      "cell_type": "markdown",
      "metadata": {},
      "source": [
        "### Results as lists, arrays, and DataFrames\nUsing :meth:`mapdl.prnsol` to check\n\n"
      ]
    },
    {
      "cell_type": "code",
      "execution_count": null,
      "metadata": {
        "collapsed": false
      },
      "outputs": [],
      "source": [
        "print(mapdl.prnsol(\"S\", \"PRIN\"))"
      ]
    },
    {
      "cell_type": "markdown",
      "metadata": {},
      "source": [
        "Use this command to obtain the data as a list.\n\n"
      ]
    },
    {
      "cell_type": "code",
      "execution_count": null,
      "metadata": {
        "collapsed": false
      },
      "outputs": [],
      "source": [
        "mapdl_s_1_list = mapdl.prnsol(\"S\", \"PRIN\").to_list()\nprint(mapdl_s_1_list)"
      ]
    },
    {
      "cell_type": "markdown",
      "metadata": {},
      "source": [
        "Use this command to obtain the data as an array:\n\n"
      ]
    },
    {
      "cell_type": "code",
      "execution_count": null,
      "metadata": {
        "collapsed": false
      },
      "outputs": [],
      "source": [
        "mapdl_s_1_array = mapdl.prnsol(\"S\", \"PRIN\").to_array()\nprint(mapdl_s_1_array)"
      ]
    },
    {
      "cell_type": "markdown",
      "metadata": {},
      "source": [
        "or as a DataFrame:\n\n"
      ]
    },
    {
      "cell_type": "code",
      "execution_count": null,
      "metadata": {
        "collapsed": false
      },
      "outputs": [],
      "source": [
        "mapdl_s_1_df = mapdl.prnsol(\"S\", \"PRIN\").to_dataframe()\nmapdl_s_1_df.head()"
      ]
    },
    {
      "cell_type": "markdown",
      "metadata": {},
      "source": [
        "Use this command to obtain the data as a DataFrame, which is a.\n[Pandas data type](https://pandas.pydata.org/docs/reference/api/pandas.DataFrame.html).\nBecause the Pandas module is imported, you can use its functions.\nFor example, you can write principal stresses to a file.\n\n"
      ]
    },
    {
      "cell_type": "code",
      "execution_count": null,
      "metadata": {
        "collapsed": false
      },
      "outputs": [],
      "source": [
        "# mapdl_s_1_df.to_csv(path + '\\prin-stresses.csv')\n# mapdl_s_1_df.to_json(path + '\\prin-stresses.json')\nmapdl_s_1_df.to_html(path + \"\\prin-stresses.html\")"
      ]
    },
    {
      "cell_type": "markdown",
      "metadata": {},
      "source": [
        "## Step 7: Advanced plotting\n\n\n"
      ]
    },
    {
      "cell_type": "code",
      "execution_count": null,
      "metadata": {
        "collapsed": false
      },
      "outputs": [],
      "source": [
        "mapdl.allsel()\nprincipal_1 = mapdl.post_processing.nodal_principal_stress(\"1\")"
      ]
    },
    {
      "cell_type": "markdown",
      "metadata": {},
      "source": [
        "Load this result into the VTK grid.\n\n"
      ]
    },
    {
      "cell_type": "code",
      "execution_count": null,
      "metadata": {
        "collapsed": false
      },
      "outputs": [],
      "source": [
        "grid = mapdl.mesh.grid\ngrid[\"p1\"] = principal_1\n\nsbar_kwargs = {\n    \"color\": \"black\",\n    \"title\": \"1st Principal Stress (psi)\",\n    \"vertical\": False,\n    \"n_labels\": 6,\n}"
      ]
    },
    {
      "cell_type": "markdown",
      "metadata": {},
      "source": [
        "Generate a single horizontal slice along the XY plane.\n\n<div class=\"alert alert-info\"><h4>Note</h4><p>PyVista's ``eye_dome_lighting`` method is used here to enhance the plots of the slices.\n   For more information, see[Eye Dome Lighting](pyvista_eye_dome_lighting_).</p></div>\n\n"
      ]
    },
    {
      "cell_type": "code",
      "execution_count": null,
      "metadata": {
        "collapsed": false
      },
      "outputs": [],
      "source": [
        "single_slice = grid.slice(normal=[0, 0, 1], origin=[0, 0, 0])\nsingle_slice.plot(\n    scalars=\"p1\",\n    background=\"white\",\n    lighting=False,\n    eye_dome_lighting=True,\n    show_edges=False,\n    cmap=\"jet\",\n    n_colors=9,\n    scalar_bar_args=sbar_kwargs,\n)"
      ]
    },
    {
      "cell_type": "markdown",
      "metadata": {},
      "source": [
        "Generate a plot with three slice planes.\n\n"
      ]
    },
    {
      "cell_type": "code",
      "execution_count": null,
      "metadata": {
        "collapsed": false
      },
      "outputs": [],
      "source": [
        "slices = grid.slice_orthogonal()\nslices.plot(\n    scalars=\"p1\",\n    background=\"white\",\n    lighting=False,\n    eye_dome_lighting=True,\n    show_edges=False,\n    cmap=\"jet\",\n    n_colors=9,\n    scalar_bar_args=sbar_kwargs,\n)"
      ]
    },
    {
      "cell_type": "markdown",
      "metadata": {},
      "source": [
        "Generate a grid with multiple slices in the same plane.\n\n\n"
      ]
    },
    {
      "cell_type": "code",
      "execution_count": null,
      "metadata": {
        "collapsed": false
      },
      "outputs": [],
      "source": [
        "slices = grid.slice_along_axis(12, \"x\")\nslices.plot(\n    scalars=\"p1\",\n    background=\"white\",\n    show_edges=False,\n    lighting=False,\n    eye_dome_lighting=True,\n    cmap=\"jet\",\n    n_colors=9,\n    scalar_bar_args=sbar_kwargs,\n)"
      ]
    },
    {
      "cell_type": "markdown",
      "metadata": {},
      "source": [
        "Finally, exit MAPDL.\n\n"
      ]
    },
    {
      "cell_type": "code",
      "execution_count": null,
      "metadata": {
        "collapsed": false
      },
      "outputs": [],
      "source": [
        "mapdl.exit()"
      ]
    }
  ],
  "metadata": {
    "kernelspec": {
      "display_name": "Python 3",
      "language": "python",
      "name": "python3"
    },
    "language_info": {
      "codemirror_mode": {
        "name": "ipython",
        "version": 3
      },
      "file_extension": ".py",
      "mimetype": "text/x-python",
      "name": "python",
      "nbconvert_exporter": "python",
      "pygments_lexer": "ipython3",
      "version": "3.10.15"
    }
  },
  "nbformat": 4,
  "nbformat_minor": 0
}
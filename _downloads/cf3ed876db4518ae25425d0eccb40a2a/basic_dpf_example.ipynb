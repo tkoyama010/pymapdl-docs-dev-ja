{
  "cells": [
    {
      "cell_type": "markdown",
      "metadata": {},
      "source": [
        "\n\n# Basic DPF-Core Usage with PyMAPDL\n\nThis example is adapted from\n[Basic DPF-Core Usage Example](https://dpf.docs.pyansys.com/version/stable/examples/00-basic/00-basic_example.html)\nand it shows how to open a result file in [DPF](https://dpf.docs.pyansys.com/) and do some\nbasic postprocessing.\n\nIf you have Ansys 2021 R1 installed, starting DPF is quite easy\nas DPF-Core takes care of launching all the services that\nare required for postprocessing Ansys files.\n\nFirst, import the DPF-Core module as ``dpf_core`` and import the\nincluded examples file.\n"
      ]
    },
    {
      "cell_type": "code",
      "execution_count": null,
      "metadata": {
        "collapsed": false
      },
      "outputs": [],
      "source": [
        "import tempfile\n\nfrom ansys.dpf import core as dpf\n\nfrom ansys.mapdl.core import launch_mapdl\nfrom ansys.mapdl.core.examples import vmfiles"
      ]
    },
    {
      "cell_type": "markdown",
      "metadata": {},
      "source": [
        "# Create model\n\nRunning an example from the MAPDL verification manual\n\n\n"
      ]
    },
    {
      "cell_type": "code",
      "execution_count": null,
      "metadata": {
        "collapsed": false
      },
      "outputs": [],
      "source": [
        "mapdl = launch_mapdl()\n\nvm5 = vmfiles[\"vm5\"]\noutput = mapdl.input(vm5)\n\nprint(output)\n\n# If you are working locally, you don't need to perform the following steps\ntemp_directory = tempfile.gettempdir()\n\n# Downloading RST file to the current folder\nrst_path = mapdl.download_result(temp_directory)"
      ]
    },
    {
      "cell_type": "markdown",
      "metadata": {},
      "source": [
        "Next, open the generated RST file and print out the\n:class:`Model <ansys.dpf.core.model.Model>` object.\nThe :class:`Model <ansys.dpf.core.model.Model>` class helps to\norganize access methods for the result by\nkeeping track of the operators and data sources used by the result\nfile.\n\nPrinting the model displays:\n\n- Analysis type\n- Available results\n- Size of the mesh\n- Number of results\n\n"
      ]
    },
    {
      "cell_type": "markdown",
      "metadata": {},
      "source": [
        "If you are working with a remote server, you might need to upload the ``RST``\nfile before working with it.\nThen you can create the :class:`DPF Model <ansys.dpf.core.model.Model>`.\n\n"
      ]
    },
    {
      "cell_type": "code",
      "execution_count": null,
      "metadata": {
        "collapsed": false
      },
      "outputs": [],
      "source": [
        "dpf.core.make_tmp_dir_server(dpf.SERVER)\n\nif dpf.SERVER.local_server:\n    model = dpf.Model(rst_path)\nelse:\n    server_file_path = dpf.upload_file_in_tmp_folder(rst_path)\n    model = dpf.Model(server_file_path)\n\nprint(model)"
      ]
    },
    {
      "cell_type": "markdown",
      "metadata": {},
      "source": [
        "# Model Metadata\nSpecific metadata can be extracted from the model by referencing the\nmodel's :attr:`metadata <ansys.dpf.core.model.Model.metadata>`\nproperty.  For example, to print only the\n:attr:`result_info <ansys.dpf.core.model.Metadata.result_info>`:\n\n"
      ]
    },
    {
      "cell_type": "code",
      "execution_count": null,
      "metadata": {
        "collapsed": false
      },
      "outputs": [],
      "source": [
        "metadata = model.metadata\nprint(metadata.result_info)"
      ]
    },
    {
      "cell_type": "markdown",
      "metadata": {},
      "source": [
        "To print the :class:`mesh region<ansys.dpf.core.meshed_region.MeshedRegion>`:\n\n"
      ]
    },
    {
      "cell_type": "code",
      "execution_count": null,
      "metadata": {
        "collapsed": false
      },
      "outputs": [],
      "source": [
        "print(metadata.meshed_region)"
      ]
    },
    {
      "cell_type": "markdown",
      "metadata": {},
      "source": [
        "To print the time or frequency of the results use\n:class:`time_freq_support <ansys.dpf.core.time_freq_support.TimeFreqSupport>`:\n\n"
      ]
    },
    {
      "cell_type": "code",
      "execution_count": null,
      "metadata": {
        "collapsed": false
      },
      "outputs": [],
      "source": [
        "print(metadata.time_freq_support)"
      ]
    },
    {
      "cell_type": "markdown",
      "metadata": {},
      "source": [
        "# Extracting Displacement Results\nAll results of the model can be accessed through the :class:`Results <ansys.dpf.core.results.Results>`\nproperty, which returns the :class:`ansys.dpf.core.results.Results`\nclass. This class contains the DPF result operators available to a\nspecific result file, which are listed when printing the object with\n``print(results)``.\n\nHere, the :class:`displacement <ansys.dpf.core.operators.result.displacement.displacement>`\noperator is connected with\n:class:`DataSources <ansys.dpf.core.data_sources.DataSources>`, which\ntakes place automatically when running\n:class:`results.displacement() <ansys.dpf.core.operators.result.displacement.displacement>`.\nBy default, the :class:`displacement <ansys.dpf.core.operators.result.displacement.displacement>`\noperator is connected to the first result set,\nwhich for this static result is the only result.\n\n"
      ]
    },
    {
      "cell_type": "code",
      "execution_count": null,
      "metadata": {
        "collapsed": false
      },
      "outputs": [],
      "source": [
        "results = model.results\ndisplacements = results.displacement()\nfields = displacements.outputs.fields_container()\n\n# Finally, extract the data of the displacement field:\ndisp = fields[0].data\ndisp"
      ]
    },
    {
      "cell_type": "markdown",
      "metadata": {},
      "source": [
        "# Plot displacements\n\nYou can plot the previous displacement field using:\n\n"
      ]
    },
    {
      "cell_type": "code",
      "execution_count": null,
      "metadata": {
        "collapsed": false
      },
      "outputs": [],
      "source": [
        "model.metadata.meshed_region.plot(fields, cpos=\"xy\")"
      ]
    },
    {
      "cell_type": "markdown",
      "metadata": {},
      "source": [
        "Or using\n\n\n"
      ]
    },
    {
      "cell_type": "code",
      "execution_count": null,
      "metadata": {
        "collapsed": false
      },
      "outputs": [],
      "source": [
        "fields[0].plot(cpos=\"xy\")"
      ]
    },
    {
      "cell_type": "markdown",
      "metadata": {},
      "source": [
        "This way is particularly useful if you have used :class:`ansys.dpf.core.scoping.Scoping`\non the mesh or results.\n\n"
      ]
    },
    {
      "cell_type": "markdown",
      "metadata": {},
      "source": [
        "# Close session\n\nStop MAPDL session.\n\n\n"
      ]
    },
    {
      "cell_type": "code",
      "execution_count": null,
      "metadata": {
        "collapsed": false
      },
      "outputs": [],
      "source": [
        "mapdl.exit()"
      ]
    }
  ],
  "metadata": {
    "kernelspec": {
      "display_name": "Python 3",
      "language": "python",
      "name": "python3"
    },
    "language_info": {
      "codemirror_mode": {
        "name": "ipython",
        "version": 3
      },
      "file_extension": ".py",
      "mimetype": "text/x-python",
      "name": "python",
      "nbconvert_exporter": "python",
      "pygments_lexer": "ipython3",
      "version": "3.10.16"
    }
  },
  "nbformat": 4,
  "nbformat_minor": 0
}
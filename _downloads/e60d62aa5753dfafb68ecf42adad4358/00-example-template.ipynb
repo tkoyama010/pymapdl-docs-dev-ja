{
  "cells": [
    {
      "cell_type": "markdown",
      "metadata": {},
      "source": [
        "\n\n# Adding a new gallery example\n\nThis example is an example itself which demonstrates how to add new examples to the documentation.\n\n## Example location and naming\n\nNew examples should be added as Python scripts to:\n\n``PyMAPDL/examples/XY-example-folder-name/``\n\n<div class=\"alert alert-info\"><h4>Note</h4><p>Avoid creating new folders unless absolutely necessary. If in doubt put the example\n   in the folder closest to what it is doing and its precise location can be advised\n   on in the pull request. If you *must* create a new folder, make sure to add a\n   ``README.txt`` containing a reference, a title and a single sentence description of the folder.\n   Otherwise the new folder will be ignored by Sphinx.</p></div>\n\nExample file names should be in the format:\n\n``XY-example-name.py``\n\nWhere ``XY`` is the number of the example. If there are already three examples numbered\n``00``, ``01``, and ``02``, then your example must subsequently use the prefix ``03``.\n\n## Initial block of text\nAt the top of each example there should be a block comment that contains\nthe following parts:\n\n### Reference example\nEach example should have a reference tag/key in the form ``.. _ref_my_example:``.\nFor instance:\n\n.. code:: py\n\n   \"\"\"\n\n\n   ============================\n   My new example title\n   ============================\n\n   This new example...\n\n   \"\"\"\n\nThe ``.. _ref_`` is necessary. Everything that follows is your reference tag. As\nconvention, we keep all references all in ``snake_case``.\n\n\n### Example description\nThis section should give a brief overview of what the example is about or what it demonstrates.\nThe title should be changed to reflect the topic that your example covers.\nA well-structured example should be divided in several parts.\nThe following lists gives you an idea of this division:\n\n* Problem specification\n* Problem description\n* Launching MAPDL\n* Build the geometry\n* Model definition\n* Mesh\n* Boundary conditions\n* Solution\n* Review the results\n\n\nAfter this preamble is complete, the first code block begins.\n"
      ]
    },
    {
      "cell_type": "code",
      "execution_count": null,
      "metadata": {
        "collapsed": false
      },
      "outputs": [],
      "source": [
        "from ansys.mapdl.core import launch_mapdl\n\n# start MAPDL\nmapdl = launch_mapdl()\nprint(mapdl)"
      ]
    },
    {
      "cell_type": "markdown",
      "metadata": {},
      "source": [
        "Your code goes here...\n\n.. code:: py\n\n   mapdl.prep7()\n   mapdl...\n\n\n"
      ]
    },
    {
      "cell_type": "markdown",
      "metadata": {},
      "source": [
        "#### Basic text formatting\n\nRST provides several ways to format text:\n\n- **Bold**: Use double asterisks `**` or double underscores `__` around\n  the text that you want to make bold. For example, `**my bold text**`.\n- *Italic*: Use single asterisks `*` or single underscores `_` around the\n  text that you want to italicize. For example, `_my italic text_`.\n- `Monospace`: Use single backticks \\` around the text that you want to display\n  in monospace font. For example, `\\`my monospace text\\``.\n\n\n"
      ]
    },
    {
      "cell_type": "markdown",
      "metadata": {},
      "source": [
        "#### Lists\n\nRST supports both ordered and unordered lists:\n\n1. **Ordered List**:\n\n   .. code:: rst\n\n      #. Item 1\n      #. Item 2\n\n\n2. **Unordered List**:\n\n   .. code:: rst\n\n      - Item 1\n      - Item 2\n\n\n"
      ]
    },
    {
      "cell_type": "markdown",
      "metadata": {},
      "source": [
        "#### Equations and numbers\n\nTo include equations or numbers, you can use the following syntax:\n\n- **Equations**:\n\n  .. code:: rst\n\n     .. math::\n         f(x) = x^2 + 2x + 1\n\n\n- **Numbered Equations**:\n\n  .. code:: rst\n\n     .. math::\n         :number: 1\n\n         f(x) = x^2 + 2x + 1\n\n\n"
      ]
    },
    {
      "cell_type": "markdown",
      "metadata": {},
      "source": [
        "#### Code blocks\n\nTo include code blocks in RST, use the double colons `::` followed by indentation:\n\n.. code:: rst\n\n   .. code:: python\n\n       def greet(name):\n           print(\"Hello, {}!\".format(name))\n\n\nThis renders as:\n\n.. code:: python\n\n    def greet(name):\n        print(\"Hello, {}!\".format(name))\n\n\n"
      ]
    },
    {
      "cell_type": "markdown",
      "metadata": {},
      "source": [
        "#### Section title\nCode blocks can be broken up with text \"sections\" which are interpreted as\nrestructured text.\n\nThis will also be translated into a markdown cell in the generated jupyter notebook.\nSections can contain any information you may have regarding the example\nsuch as step-by-step comments or notes regarding motivations etc.\n\nTo create a title or a section, underline it with the appropriate\ncharacters, such as``=``, ``*``, or ``~``.\nFor example:\n\n.. code:: rst\n\n   ==========\n   My chapter\n   ==========\n\n   My text...\n\n   My section\n   ==========\n\n   My text...\n\n   My paragraph\n   ------------\n\n   My text\n\n\nIt does not matter which character you use, but you need to be consistent\nthrough the whole document.\nFor more information, see\n[RestructuredText Primer](https://www.sphinx-doc.org/en/master/usage/restructuredtext/basics.html#sections)\nin the Sphinx documentation.\n\nAs in Jupyter notebooks, if code is left unassigned at the end of a code block\n(as with ``mapdl`` in the previous block), the output is generated and\nprinted to the screen according to its ``__repr__``.\nOtherwise, you can use ``print()`` to output the ``__str__``.\n\n"
      ]
    },
    {
      "cell_type": "code",
      "execution_count": null,
      "metadata": {
        "collapsed": false
      },
      "outputs": [],
      "source": [
        "# more code...\nmapdl.clear()\nmapdl.prep7()\nprint(mapdl)"
      ]
    },
    {
      "cell_type": "markdown",
      "metadata": {},
      "source": [
        "#### Plots and images\nIf you use an mapdl plotting command the result will be auto-generated and\nrendered in the page. Like so:\n\n"
      ]
    },
    {
      "cell_type": "code",
      "execution_count": null,
      "metadata": {
        "collapsed": false
      },
      "outputs": [],
      "source": [
        "mapdl.block(0, 1, 0, 1, 0, 1)\nmapdl.vplot()"
      ]
    },
    {
      "cell_type": "markdown",
      "metadata": {},
      "source": [
        "Matplotlib plots are also rendered in HTML format.\n\n\n"
      ]
    },
    {
      "cell_type": "code",
      "execution_count": null,
      "metadata": {
        "collapsed": false
      },
      "outputs": [],
      "source": [
        "import matplotlib.pyplot as plt\n\nfig = plt.figure()\nax = fig.add_subplot(111)\nx = list(range(10))\ny = [i**2 + 3 * i - 1 for i in x]\nax.plot(x, y)\nax.set_xlabel(\"x\")\nax.set_ylabel(\"y\")\nplt.show()"
      ]
    },
    {
      "cell_type": "markdown",
      "metadata": {},
      "source": [
        "Additionally you can reference images and figures using the ``image`` and\n``figure`` directives:\n\n.. code:: rst\n\n   .. image:: path/to/image.extension\n      (options)\n\nand\n\n.. code:: rst\n\n   .. figure:: path/to/image.extension\n      (options)\n\nMore information can be found\n[image](https://www.sphinx-doc.org/en/master/usage/restructuredtext/basics.html#images).\nand [figure](https://docutils.sourceforge.io/docs/ref/rst/directives.html#figure)\n\n"
      ]
    },
    {
      "cell_type": "markdown",
      "metadata": {},
      "source": [
        "#### Making a pull request\nOnce your example is complete and you've verified builds locally, you can make a pull request (PR).\nBranches containing examples should be prefixed with `doc/` as per the branch\nnaming conventions found here: `contributing`.\n\nNote that you only need to create the python source example (.py).  The jupyter\nnotebook, the example html and the demo script will all be auto-generated via ``sphinx-gallery``.\n\n"
      ]
    },
    {
      "cell_type": "markdown",
      "metadata": {},
      "source": [
        "#### Stopping mapdl\nThis block of code should be included always.\n\n"
      ]
    },
    {
      "cell_type": "code",
      "execution_count": null,
      "metadata": {
        "collapsed": false
      },
      "outputs": [],
      "source": [
        "mapdl.exit()"
      ]
    }
  ],
  "metadata": {
    "kernelspec": {
      "display_name": "Python 3",
      "language": "python",
      "name": "python3"
    },
    "language_info": {
      "codemirror_mode": {
        "name": "ipython",
        "version": 3
      },
      "file_extension": ".py",
      "mimetype": "text/x-python",
      "name": "python",
      "nbconvert_exporter": "python",
      "pygments_lexer": "ipython3",
      "version": "3.10.16"
    }
  },
  "nbformat": 4,
  "nbformat_minor": 0
}
{
  "cells": [
    {
      "cell_type": "markdown",
      "metadata": {},
      "source": [
        "\n\n# Cyclic Analysis\n\nThis example creates a bladed disc using parametric geometry of a cyclic sector\nand then runs a modal analysis on that cyclic sector. We then post-process the\nresults using the legacy [MAPDL reader](https://readerdocs.pyansys.com/) and\nfinally generate another cyclic model using our parametric modeler.\n\nOur first task is to create a simple cyclic model with 7 sectors.\n\n<img src=\"file://../../../images/cyclic_disc.png\">\n\nFirst, start MAPDL as a service.\n"
      ]
    },
    {
      "cell_type": "code",
      "execution_count": null,
      "metadata": {
        "collapsed": false
      },
      "outputs": [],
      "source": [
        "import numpy as np\nimport pyvista as pv\n\nfrom ansys.mapdl.core import launch_mapdl\n\nmapdl = launch_mapdl()"
      ]
    },
    {
      "cell_type": "markdown",
      "metadata": {},
      "source": [
        "## Create the Cyclic Sector\nCreate a single \"sector\" of our cyclic model.\n\n\n"
      ]
    },
    {
      "cell_type": "code",
      "execution_count": null,
      "metadata": {
        "collapsed": false
      },
      "outputs": [],
      "source": [
        "def gen_sector(mapdl, sectors):\n    \"\"\"Generate a single sector within MAPDL.\"\"\"\n\n    # thickness\n    thickness = 0.003  # meters\n    arc_end = 2 * np.pi / sectors\n    arc_cent = arc_end / 2\n\n    # radius\n    rad = 0.01  # M\n    arc = pv.CircularArc(\n        [rad, 0, 0],\n        [np.cos(arc_end) * rad, np.sin(arc_end) * rad, 0],\n        [0, 0, 0],\n    )\n\n    # interior circle\n    kp_begin = [rad, 0, 0]\n    kp_end = [np.cos(arc_end) * rad, np.sin(arc_end) * rad, 0]\n    kp_center = [0, 0, 0]\n\n    # exterior circle in (M)\n    out_rad = 5.2e-2\n\n    # solve for angle to get same arc.length at the end\n    cent_ang = arc.length / out_rad / 2\n\n    # interior circle\n    kp_beg_outer = [\n        np.cos(arc_cent - cent_ang) * out_rad,\n        np.sin(arc_cent - cent_ang) * out_rad,\n        0,\n    ]\n    kp_end_outer = [\n        np.cos(arc_cent + cent_ang) * out_rad,\n        np.sin(arc_cent + cent_ang) * out_rad,\n        0,\n    ]\n\n    mapdl.prep7()\n    mapdl.k(0, *kp_center)\n    mapdl.k(0, *kp_begin)\n    mapdl.k(0, *kp_end)\n    mapdl.k(0, *kp_beg_outer)\n    mapdl.k(0, *kp_end_outer)\n\n    # inner arc\n    mapdl.l(1, 2)  # left line\n    mapdl.l(1, 3)  # right line\n    lnum_inter = mapdl.l(2, 3)  # internal line\n    mapdl.al(\"all\")\n\n    # outer \"blade\"\n    lnum = [lnum_inter, mapdl.l(4, 5), mapdl.l(2, 4), mapdl.l(3, 5)]\n    mapdl.al(*lnum)\n\n    # extrude the model in the Z direction by ``thickness``\n    mapdl.vext(\"all\", dz=thickness)\n\n\n# generate a single sector of a 7 sector model\nsectors = 7\ngen_sector(mapdl, sectors)\n\n# Volume plot\nmapdl.vplot()"
      ]
    },
    {
      "cell_type": "markdown",
      "metadata": {},
      "source": [
        "## Make the Model Cyclic\nMake the model cyclic by running :func:`Mapdl.cyclic`\n\nNote how the number of sectors matches\n\n"
      ]
    },
    {
      "cell_type": "code",
      "execution_count": null,
      "metadata": {
        "collapsed": false
      },
      "outputs": [],
      "source": [
        "output = mapdl.cyclic()\nprint(f\"Expected Sectors: {sectors}\")\nprint(output)"
      ]
    },
    {
      "cell_type": "markdown",
      "metadata": {},
      "source": [
        "## Generate the mesh\nGenerate the finite element mesh using quadritic hexahedrals, SOLID186.\n\n"
      ]
    },
    {
      "cell_type": "code",
      "execution_count": null,
      "metadata": {
        "collapsed": false
      },
      "outputs": [],
      "source": [
        "# element size of 0.01\nesize = 0.001\n\nmapdl.et(1, 186)\nmapdl.esize(esize)\nmapdl.vsweep(\"all\")\n\n# plot the finite element mesh\nmapdl.eplot()"
      ]
    },
    {
      "cell_type": "markdown",
      "metadata": {},
      "source": [
        "## Apply Material Properties\n\n"
      ]
    },
    {
      "cell_type": "code",
      "execution_count": null,
      "metadata": {
        "collapsed": false
      },
      "outputs": [],
      "source": [
        "# Define a material (nominal steel in SI)\nmapdl.mp(\"EX\", 1, 210e9)  # Elastic moduli in Pa (kg/(m*s**2))\nmapdl.mp(\"DENS\", 1, 7800)  # Density in kg/m3\nmapdl.mp(\"NUXY\", 1, 0.3)  # Poisson's Ratio\n\n# apply it to all elements\nmapdl.emodif(\"ALL\", \"MAT\", 1)"
      ]
    },
    {
      "cell_type": "markdown",
      "metadata": {},
      "source": [
        "## Run the Modal Analysis\nLet's get the first 10 modes. Note that this will actually compute\n``(sectors/2)*nmode`` based on the cyclic boundary conditions.\n\n"
      ]
    },
    {
      "cell_type": "code",
      "execution_count": null,
      "metadata": {
        "collapsed": false
      },
      "outputs": [],
      "source": [
        "output = mapdl.modal_analysis(nmode=10, freqb=1)\nprint(output)"
      ]
    },
    {
      "cell_type": "markdown",
      "metadata": {},
      "source": [
        "## Get the Results of the Cyclic Modal Analysis\nVisualize a traveling wave from the modal analysis.\n\nFor more details, see [Validation of a Modal Work Approach for Forced\nResponse Analysis of Bladed Disks](https://www.mdpi.com/2076-3417/11/12/5437/pdf), or the [Cyclic Symmetry\nAnalysis Guide](https://ansyshelp.ansys.com/Views/Secured/corp/v222/en/pdf/Ansys_Mechanical_APDL_Cyclic_Symmetry_Analysis_Guide.pdf)\n\n<div class=\"alert alert-info\"><h4>Note</h4><p>This uses the legacy result reader, which will be deprecated at some point\n   in favor of DPF, but we can use this for now for some great animations.</p></div>\n\nFor more details regarding cyclic result post processing, see:\n- [Understanding Nodal Diameters from a Cyclic Model Analysis](https://reader.docs.pyansys.com/version/stable/examples/01-cyclic_results/academic_sector_nd.html)\n- [Cyclic symmetry examples](https://dpf.docs.pyansys.com/version/stable/examples/11-cyclic-symmetry/index.html)\n\n"
      ]
    },
    {
      "cell_type": "code",
      "execution_count": null,
      "metadata": {
        "collapsed": false
      },
      "outputs": [],
      "source": [
        "# grab the result object from MAPDL\nresult = mapdl.result\nprint(result)"
      ]
    },
    {
      "cell_type": "markdown",
      "metadata": {},
      "source": [
        "## List the Table of Harmonic Indices\nThis is the table of harmonic indices. This table provides the corresponding\nharmonic index for each cumulative mode.\n\n"
      ]
    },
    {
      "cell_type": "code",
      "execution_count": null,
      "metadata": {
        "collapsed": false
      },
      "outputs": [],
      "source": [
        "print(\"C. Index   Harmonic Index\")\nfor i, hindex in zip(range(result.n_results), result.harmonic_indices):\n    print(f\"{i:3d}      {hindex:3d}\")"
      ]
    },
    {
      "cell_type": "markdown",
      "metadata": {},
      "source": [
        "## Generate an Animation of a Traveling Wave\nHere's the nodal diameter 1 of first bend on our cyclic analysis.\n\nWe can get the first mode (generally first bend for a bladed rotor) for nodal\ndiameter 1 with:\n\n``mode_num = np.nonzero(result.harmonic_indices == 1)[0][0]``\n\n\n"
      ]
    },
    {
      "cell_type": "code",
      "execution_count": null,
      "metadata": {
        "collapsed": false
      },
      "outputs": [],
      "source": [
        "pv.global_theme.background = \"w\"\n\n_ = result.animate_nodal_displacement(\n    11,\n    displacement_factor=5e-4,\n    movie_filename=\"traveling_wave11.gif\",\n    n_frames=30,\n    off_screen=True,\n    loop=False,\n    add_text=False,\n    show_scalar_bar=False,\n    cmap=\"jet\",\n)"
      ]
    },
    {
      "cell_type": "markdown",
      "metadata": {},
      "source": [
        "And here's 1st torsional for nodal diameter 3.\n\n"
      ]
    },
    {
      "cell_type": "code",
      "execution_count": null,
      "metadata": {
        "collapsed": false
      },
      "outputs": [],
      "source": [
        "_ = result.animate_nodal_displacement(\n    36,\n    displacement_factor=2e-4,\n    movie_filename=\"traveling_wave36.gif\",\n    n_frames=30,\n    off_screen=True,\n    loop=False,\n    add_text=False,\n    show_scalar_bar=False,\n    cmap=\"jet\",\n)"
      ]
    },
    {
      "cell_type": "markdown",
      "metadata": {},
      "source": [
        "## Parametric Geometry\nSince our geometry creation is scripted, we can create a structure with any\nnumber of \"sectors\". Let's make a more interesting one with 20 sectors.\n\nFirst, be sure to clear MAPDL so we start from scratch.\n\n"
      ]
    },
    {
      "cell_type": "code",
      "execution_count": null,
      "metadata": {
        "collapsed": false
      },
      "outputs": [],
      "source": [
        "mapdl.clear()\nmapdl.prep7()\n\n# Generate a single sector of a 20 sector model\ngen_sector(mapdl, 20)\n\n# make it cyclic\nmapdl.cyclic()\n\n# Mesh it\nesize = 0.001\nmapdl.et(1, 186)\nmapdl.esize(esize)\nmapdl.vsweep(\"all\")\n\n# apply materials\nmapdl.mp(\"EX\", 1, 210e9)  # Elastic moduli in Pa (kg/(m*s**2))\nmapdl.mp(\"DENS\", 1, 7800)  # Density in kg/m3\nmapdl.mp(\"NUXY\", 1, 0.3)  # Poisson's Ratio\nmapdl.emodif(\"ALL\", \"MAT\", 1)\n\n# Run the modal analysis\noutput = mapdl.modal_analysis(nmode=6, freqb=1)\n\n# grab the result object from MAPDL\nresult = mapdl.result\nprint(result)"
      ]
    },
    {
      "cell_type": "markdown",
      "metadata": {},
      "source": [
        "## List the Table of Harmonic Indices\nNote how the harmonic indices of these modes goes up to 10, or N/2 where N is\nthe number of sectors.\n\n"
      ]
    },
    {
      "cell_type": "code",
      "execution_count": null,
      "metadata": {
        "collapsed": false
      },
      "outputs": [],
      "source": [
        "print(\"C. Index   Harmonic Index\")\nfor i, hindex in zip(range(result.n_results), result.harmonic_indices):\n    print(f\"{i:3d}    {hindex:3d}\")"
      ]
    },
    {
      "cell_type": "markdown",
      "metadata": {},
      "source": [
        "## Plot First Bend for Nodal Diameter 2\nNote how you can clearly see two nodal lines for this mode shape since it's\nnodal diameter 2.\n\n"
      ]
    },
    {
      "cell_type": "code",
      "execution_count": null,
      "metadata": {
        "collapsed": false
      },
      "outputs": [],
      "source": [
        "result.plot_nodal_displacement(\n    12, cpos=\"xy\", cmap=\"jet\", show_scalar_bar=False, add_text=False\n)"
      ]
    },
    {
      "cell_type": "markdown",
      "metadata": {},
      "source": [
        "## Animate First Bend for Nodal Diameter 2\nLet's end this example by animating mode 12, which corresponds to first bend\nfor the 2nd nodal diameter of this example model.\n\n"
      ]
    },
    {
      "cell_type": "code",
      "execution_count": null,
      "metadata": {
        "collapsed": false
      },
      "outputs": [],
      "source": [
        "_ = result.animate_nodal_displacement(\n    12,\n    displacement_factor=2e-4,\n    movie_filename=\"traveling_wave12.gif\",\n    n_frames=30,\n    off_screen=True,\n    loop=False,\n    add_text=False,\n    show_scalar_bar=False,\n    cmap=\"jet\",\n)"
      ]
    }
  ],
  "metadata": {
    "kernelspec": {
      "display_name": "Python 3",
      "language": "python",
      "name": "python3"
    },
    "language_info": {
      "codemirror_mode": {
        "name": "ipython",
        "version": 3
      },
      "file_extension": ".py",
      "mimetype": "text/x-python",
      "name": "python",
      "nbconvert_exporter": "python",
      "pygments_lexer": "ipython3",
      "version": "3.10.16"
    }
  },
  "nbformat": 4,
  "nbformat_minor": 0
}
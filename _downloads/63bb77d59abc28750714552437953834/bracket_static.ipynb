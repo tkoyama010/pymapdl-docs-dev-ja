{
  "cells": [
    {
      "cell_type": "markdown",
      "metadata": {},
      "source": [
        "\n\n\n# Static analysis of a corner bracket\n\nThis is an example adapted from a classic Ansys APDL tutorial\n[Static Analysis of a Corner Bracket](https://ansyshelp.ansys.com/account/Secured?returnurl=/Views/Secured/corp/v231/en/ans_tut/structural_cb.html)\n\n\n## Problem specification\n\n+---------------------------+---------------------------------------------------------------------------------------------------------+\n| Applicable Products:      | Ansys Multiphysics, Ansys Mechanical, Ansys Structural                                                  |\n+---------------------------+---------------------------------------------------------------------------------------------------------+\n| Level of Difficulty:      | Easy                                                                                                    |\n+---------------------------+---------------------------------------------------------------------------------------------------------+\n| Interactive Time Required:| 60 to 90 minutes                                                                                        |\n+---------------------------+---------------------------------------------------------------------------------------------------------+\n| Discipline:               | Structural                                                                                              |\n+---------------------------+---------------------------------------------------------------------------------------------------------+\n| Analysis Type:            | Linear static                                                                                           |\n+---------------------------+---------------------------------------------------------------------------------------------------------+\n| Element Types Used:       | [PLANE183](elem_plane183_)                                                                            |\n+---------------------------+---------------------------------------------------------------------------------------------------------+\n| Features Demonstrated:    | Solid modeling including primitives, boolean operations, and fillets; tapered pressure load             |\n|                           | deformed shape and stress displays; listing of reaction forces;                                         |\n+---------------------------+---------------------------------------------------------------------------------------------------------+\n| Help Resources:           | Structural Static Analysis and [PLANE183](elem_plane183_)                                             |\n+---------------------------+---------------------------------------------------------------------------------------------------------+\n\n\n## Problem description\n\nThis is a simple, single-load-step, structural static analysis of a corner angle\nbracket. The upper-left pin hole is constrained (welded) around its entire\ncircumference, and a tapered pressure load is applied to the bottom of the\nlower-right pin hole. The US customary system of units is used.\nThe objective is to demonstrate how Mechanical APDL is typical used in an analysis.\n\n### Bracket model\n\nThe dimensions of the corner bracket are shown in the following figure.\nThe bracket is made of A36 steel with a Young's modulus of $3\\cdot10^7$ psi\nand Poisson's ratio of $0.27$.\n\n.. figure:: ../../../images/bracket_dimensions.png\n   :width: 400\n   :alt: Bracket image\n\n   **Bracket model dimensions**\n\n\n### Approach and assumptions\n\nBecause the bracket is thin in the z direction (1/2-inch thickness) compared\nto its x and y dimensions, and because the pressure load acts only in the x-y\nplane, assume plane stress for the analysis.\n\nThe approach is to use solid modeling to generate the 2D model and automatically\nmesh it with nodes and elements.\nAn alternative approach would be to create the nodes and elements directly.\n"
      ]
    },
    {
      "cell_type": "markdown",
      "metadata": {},
      "source": [
        "## Launching MAPDL\n\n"
      ]
    },
    {
      "cell_type": "code",
      "execution_count": null,
      "metadata": {
        "collapsed": false
      },
      "outputs": [],
      "source": [
        "from ansys.mapdl.core import launch_mapdl\n\njobName = \"bracket\"  # optional\nmapdl = launch_mapdl(jobname=jobName)"
      ]
    },
    {
      "cell_type": "markdown",
      "metadata": {},
      "source": [
        "## Build the geometry\n\n### Define rectangles\n\nThere are several ways to create the model geometry within Mechanical APDL,\nand some are more convenient than others. The first step is to recognize that you can\nconstruct the bracket easily with combinations of rectangles and circle primitives.\n\nSelect an arbitrary global origin location, and then define the rectangle and circle\nprimitives relative to that origin. For this analysis, use the center of the\nupper-left hole. Begin by defining a rectangle relative to that location.\n\nThe APDL command :meth:`mapdl.prep7() <ansys.mapdl.core.Mapdl.rectng>` is\nused to create a rectangle with ``X1``, ``X2``, ``Y1``, and ``Y2`` dimensions.\nIn PyMAPDL the :class:`mapdl() <ansys.mapdl.core.Mapdl>` class is used\nto call the APDL command.\n\n\n#### Dimension box 1\n\nEnter the following:\n\n.. code:: python\n\n    X1 = 0\n    X2 = 6\n    Y1 = -1\n    Y2 = 1\n\n\nOr use a Python list to store the dimensions:\n\n"
      ]
    },
    {
      "cell_type": "code",
      "execution_count": null,
      "metadata": {
        "collapsed": false
      },
      "outputs": [],
      "source": [
        "box1 = [0, 6, -1, 1]"
      ]
    },
    {
      "cell_type": "markdown",
      "metadata": {},
      "source": [
        "#### Dimension box 2\nEnter the following:\n\n"
      ]
    },
    {
      "cell_type": "code",
      "execution_count": null,
      "metadata": {
        "collapsed": false
      },
      "outputs": [],
      "source": [
        "box2 = [4, 6, -1, -3]"
      ]
    },
    {
      "cell_type": "markdown",
      "metadata": {},
      "source": [
        "The :meth:`mapdl.prep7() <ansys.mapdl.core.Mapdl.prep7>` command starts the APDL\npreprocessor to start the build up of the analysis.\nThis is the processor where the model geometry is created.\n\n"
      ]
    },
    {
      "cell_type": "code",
      "execution_count": null,
      "metadata": {
        "collapsed": false
      },
      "outputs": [],
      "source": [
        "mapdl.prep7()"
      ]
    },
    {
      "cell_type": "markdown",
      "metadata": {},
      "source": [
        "Parameterize as much as possible, taking advantage of Python features such as the\nPython :class:`list <python.list>` or :class:`dict <python.dict>` class.\nGood practice would be to have all parameters near or at the top of the input\nfile. However, for this interactive tutorial, they are inline.\n\n\n"
      ]
    },
    {
      "cell_type": "code",
      "execution_count": null,
      "metadata": {
        "collapsed": false
      },
      "outputs": [],
      "source": [
        "# build your cubes\nmapdl.rectng(box1[0], box1[1], box1[2], box1[3])"
      ]
    },
    {
      "cell_type": "markdown",
      "metadata": {},
      "source": [
        "In Python, you can use the ``*`` to unpack an object in a function\ncall. For example:\n\n"
      ]
    },
    {
      "cell_type": "code",
      "execution_count": null,
      "metadata": {
        "collapsed": false
      },
      "outputs": [],
      "source": [
        "mapdl.rectng(*box2)  # prints the id of the created area"
      ]
    },
    {
      "cell_type": "markdown",
      "metadata": {},
      "source": [
        "### Plot areas\n\nPyMAPDL plots can be controlled through arguments passed to the different plot\nmethods, such as :meth:`mapdl.aplot() <ansys.mapdl.core.Mapdl.aplot>`.\n\nThe area plot shows both rectangles, which are areas, in the same color.\nTo more clearly distinguish between areas, turn on area numbers.\nFor more information, see the :meth:`mapdl.aplot() <ansys.mapdl.core.Mapdl.aplot>` method.\n\n\n"
      ]
    },
    {
      "cell_type": "code",
      "execution_count": null,
      "metadata": {
        "collapsed": false
      },
      "outputs": [],
      "source": [
        "mapdl.aplot(cpos=\"xy\", show_lines=True)"
      ]
    },
    {
      "cell_type": "markdown",
      "metadata": {},
      "source": [
        "<div class=\"alert alert-info\"><h4>Note</h4><p>If you download the Jupyter Notebook version of\n   [this example](ref_static_analysis_bracket_end_), you can take advantage\n   of Jupyter Notebook features.\n   For example, you can right-click a command to display contextual help.</p></div>\n\n\n"
      ]
    },
    {
      "cell_type": "markdown",
      "metadata": {},
      "source": [
        "### Create first circle\n\nWith the use of logic and Boolean geometrical operations, you can use\nthe original geometric parameters (``box1``, ``box2``) to locate the circles.\n\nCreate the half circle at each end of the bracket. You first create\na full circle on each end and then combine the circles and rectangles with a\nBoolean add operation (discussed in `Subtract pin holes from bracket`_).\n\nThe APDL command to create the circles is\n:meth:`mapdl.cyl4() <ansys.mapdl.core.Mapdl.cyl4>`.\n\nThe first circle area is located on the left side at the X,Y location, and\nits radius is $1$.\n\n"
      ]
    },
    {
      "cell_type": "code",
      "execution_count": null,
      "metadata": {
        "collapsed": false
      },
      "outputs": [],
      "source": [
        "# Create first circle\nradius = 1\ncircle1_X = box1[0]\ncircle1_Y = (box1[2] + box1[3]) / 2\nmapdl.cyl4(circle1_X, circle1_Y, radius)\n\nmapdl.aplot(vtk=True, cpos=\"xy\", show_lines=True)"
      ]
    },
    {
      "cell_type": "markdown",
      "metadata": {},
      "source": [
        "### Create second circle\n\nCreate the second circle at the X,Y location:\n\n\n"
      ]
    },
    {
      "cell_type": "code",
      "execution_count": null,
      "metadata": {
        "collapsed": false
      },
      "outputs": [],
      "source": [
        "circle2_X = (box2[0] + box2[1]) / 2\ncircle2_Y = box2[3]"
      ]
    },
    {
      "cell_type": "markdown",
      "metadata": {},
      "source": [
        "Use these parameter values to create the new area with the same radius of $1$\nas the first circle area.\n\n"
      ]
    },
    {
      "cell_type": "code",
      "execution_count": null,
      "metadata": {
        "collapsed": false
      },
      "outputs": [],
      "source": [
        "mapdl.cyl4(circle2_X, circle2_Y, radius)\nmapdl.aplot(vtk=True, cpos=\"xy\", show_lines=True)"
      ]
    },
    {
      "cell_type": "markdown",
      "metadata": {},
      "source": [
        "### Add areas\nNow that the appropriate pieces of the model (rectangles and circles) are defined,\nadd them together so the model becomes one continuous area.\nUse the Boolean add operation :meth:`mapdl.aadd() <ansys.mapdl.core.Mapdl.aadd>`\nto add the areas together.\n\nUse the ``all`` argument to add all areas.\n\n"
      ]
    },
    {
      "cell_type": "code",
      "execution_count": null,
      "metadata": {
        "collapsed": false
      },
      "outputs": [],
      "source": [
        "mapdl.aadd(\"all\")  # Prints the ID of the created area"
      ]
    },
    {
      "cell_type": "markdown",
      "metadata": {},
      "source": [
        "### Create line fillet\n\nThe right angle between the two boxes can be improved using a fillet with a\nradius of $0.4$.\nYou can do this by selecting the lines around this area and creating the fillet.\n\nUse the APDL :meth:`mapdl.lsel() <ansys.mapdl.core.Mapdl.lsel>` method\nto select lines. Here, the X and Y locations of the lines are used to create\nthe boxes for creating your selection.\n\nAfter selecting the line, you need to write it to a parameter so you can use\nit to generate the fillet line.\nThis is done using the :meth:`mapdl.get() <ansys.mapdl.core.Mapdl.get>`\nmethod.\n\nBecause you have selected one line, you can use the ``MAX`` and ``NUM`` arguments\nfor the :meth:`mapdl.get() <ansys.mapdl.core.Mapdl.get>` method.\n\nSelect first line for fillet\n\n"
      ]
    },
    {
      "cell_type": "code",
      "execution_count": null,
      "metadata": {
        "collapsed": false
      },
      "outputs": [],
      "source": [
        "line1 = mapdl.lsel(\"S\", \"LOC\", \"Y\", box1[2])\nl1 = mapdl.get(\"line1\", \"LINE\", 0, \"NUM\", \"MAX\")"
      ]
    },
    {
      "cell_type": "markdown",
      "metadata": {},
      "source": [
        "If you write the command to a Python parameter (``line1``), you can use either\nthe APDL parameter ``l1`` or the Python parameter ``line1`` when you create\nthe fillet line.\n\nSelect second line for fillet and create Python parameter\n\n"
      ]
    },
    {
      "cell_type": "code",
      "execution_count": null,
      "metadata": {
        "collapsed": false
      },
      "outputs": [],
      "source": [
        "line2 = mapdl.lsel(\"S\", \"LOC\", \"X\", box2[0])\nl2 = mapdl.get(\"line2\", \"LINE\", 0, \"NUM\", \"MAX\")"
      ]
    },
    {
      "cell_type": "markdown",
      "metadata": {},
      "source": [
        "Once you have both lines selected, you can use the PyMAPDL command\n:meth:`mapdl.lfillt() <ansys.mapdl.core.Mapdl.lfillt>` to generate the fillet\nbetween the lines.\n\n**Note** that Python could return a list if more than one line is selected.\n\n"
      ]
    },
    {
      "cell_type": "markdown",
      "metadata": {},
      "source": [
        "Here you use a mix of the APDL parameter as a string ``line1`` and\nthe ``l2`` Python parameter to create the fillet line.\n\nCreate fillet line using selected line (parameter names)\n\n"
      ]
    },
    {
      "cell_type": "code",
      "execution_count": null,
      "metadata": {
        "collapsed": false
      },
      "outputs": [],
      "source": [
        "fillet_radius = 0.4\nmapdl.allsel()\nline3 = mapdl.lfillt(\"line1\", l2, fillet_radius)\n\nmapdl.allsel()\nmapdl.lplot(vtk=True, cpos=\"xy\")"
      ]
    },
    {
      "cell_type": "markdown",
      "metadata": {},
      "source": [
        "### Create fillet area\n\nTo create the area delineated by ``line1``, ``line2``, and newly created\n``line3``, use the :meth:`mapdl.al() <ansys.mapdl.core.Mapdl.al>` method.\nThe three lines are the input. If you select them all, you can use\nthe ``'ALL'`` argument to create the area.\n\nFirst you have to reselect the newly created lines in the fillet area.\nTo do this, you can use the ``fillet_radius`` parameter and the\n:meth:`mapdl.lsel() <ansys.mapdl.core.Mapdl.lsel>` command.\n\nFor the two newly created straight lines, the length is the same as\nthe ``fillet_radius`` value. Thus, you can use the length argument\nwith the :meth:`mapdl.lsel() <ansys.mapdl.core.Mapdl.lsel>` command.\n\n\n"
      ]
    },
    {
      "cell_type": "code",
      "execution_count": null,
      "metadata": {
        "collapsed": false
      },
      "outputs": [],
      "source": [
        "mapdl.allsel()\n\n# Select lines for the area\nmapdl.lsel(\"S\", \"LENGTH\", \"\", fillet_radius)"
      ]
    },
    {
      "cell_type": "markdown",
      "metadata": {},
      "source": [
        "Additionally, you need to get the fillet line itself (``line3``). You can use the\n:meth:`mapdl.lsel() <ansys.mapdl.core.Mapdl.lsel>` command again with either\nthe ``'RADIUS'`` argument if there is only one line with that radius in the model\nor more directly use the parameter name of the line.\nNote the ``'A'`` to additionally select items.\n\n\n"
      ]
    },
    {
      "cell_type": "code",
      "execution_count": null,
      "metadata": {
        "collapsed": false
      },
      "outputs": [],
      "source": [
        "mapdl.lsel(\"A\", \"LINE\", \"\", line3)\n\n# plotting ares\nmapdl.lplot(vtk=True, cpos=\"xy\", show_line_numbering=True)"
      ]
    },
    {
      "cell_type": "markdown",
      "metadata": {},
      "source": [
        "Then use :meth:`mapdl.al() <ansys.mapdl.core.Mapdl.al>` command to create the areas\nfrom the lines.\n\n\n"
      ]
    },
    {
      "cell_type": "code",
      "execution_count": null,
      "metadata": {
        "collapsed": false
      },
      "outputs": [],
      "source": [
        "# Create the area\nmapdl.al(\"ALL\")  # Prints the ID of the newly created area"
      ]
    },
    {
      "cell_type": "markdown",
      "metadata": {},
      "source": [
        "### Add areas together\nAppend all areas again using the\n:meth:`mapdl.aadd() <ansys.mapdl.core.Mapdl.aadd>` method.\nBecause you have only the two areas to combine, use the ``'ALL'`` argument.\n\n\n"
      ]
    },
    {
      "cell_type": "code",
      "execution_count": null,
      "metadata": {
        "collapsed": false
      },
      "outputs": [],
      "source": [
        "# Add the area to the main area\nmapdl.aadd(\"all\")\nmapdl.aplot(vtk=True, cpos=\"xy\", show_lines=True)"
      ]
    },
    {
      "cell_type": "markdown",
      "metadata": {},
      "source": [
        "### Create first pin hole\n\nThe first pin hole is located at the left side of the first box. Thus, you can use\nthe box dimensions to locate your new circle.\n\nThe X value (center) of the pin hole is at the first coordinate of\nthe ``box1`` (``X1``). The Y value is the average of the two ``box1`` Y values:\n\n\n"
      ]
    },
    {
      "cell_type": "code",
      "execution_count": null,
      "metadata": {
        "collapsed": false
      },
      "outputs": [],
      "source": [
        "# Create the first pinhole\npinhole_radius = 0.4\npinhole1_X = box1[0]\npinhole1_Y = (box1[2] + box1[3]) / 2\n\npinhole1 = mapdl.cyl4(pinhole1_X, pinhole1_Y, pinhole_radius)"
      ]
    },
    {
      "cell_type": "markdown",
      "metadata": {},
      "source": [
        "Because you have two pin hole circles, you use the command twice.\n\n<div class=\"alert alert-info\"><h4>Note</h4><p>Some of these areas are set to parameters to use later in the analysis.\n   This allows you to use the lines to create the areas with\n   the :meth:`mapdl.asll() <ansys.mapdl.core.Mapdl.asll>` command.</p></div>\n\n"
      ]
    },
    {
      "cell_type": "markdown",
      "metadata": {},
      "source": [
        "### Create second pin hole\n\nThe second pin hole is located at the bottom of the second box, so again we\ncan use the box 2 dimensions to locate the circle.\nFor this pinhole the dimensions are:\n\n"
      ]
    },
    {
      "cell_type": "code",
      "execution_count": null,
      "metadata": {
        "collapsed": false
      },
      "outputs": [],
      "source": [
        "pinhole2_X = (box2[0] + box2[1]) / 2\npinhole2_Y = box2[3]\n\npinhole2 = mapdl.cyl4(pinhole2_X, pinhole2_Y, pinhole_radius)\npinhole2_lines = mapdl.asll(\"S\", 0)"
      ]
    },
    {
      "cell_type": "markdown",
      "metadata": {},
      "source": [
        "### Subtract pin holes from bracket\n\nIf you use the :meth:`mapdl.aplot() <ansys.mapdl.core.Mapdl.aplot>` command with lines, at\nthis point, you have created two circle areas overlapping the bracket.\nYou can use the :meth:`mapdl.asba() <ansys.mapdl.core.Mapdl.asba>` command, which is\nthe Boolean command to subtract areas, to remove the circles from the bracket.\n\n\n"
      ]
    },
    {
      "cell_type": "code",
      "execution_count": null,
      "metadata": {
        "collapsed": false
      },
      "outputs": [],
      "source": [
        "# Remove pin hole areas from bracket\nmapdl.asba(\"all\", pinhole1)\nbracket = mapdl.asba(\"all\", pinhole2)\nmapdl.aplot(vtk=True, show_lines=True, cpos=\"xy\")"
      ]
    },
    {
      "cell_type": "markdown",
      "metadata": {},
      "source": [
        "## Model definition\n\n### Define material properties\nThere is only one material property to define for the bracket,\nA36 Steel, with given values for the Young's modulus of elasticity and Poisson's ratio.\n\n\n"
      ]
    },
    {
      "cell_type": "code",
      "execution_count": null,
      "metadata": {
        "collapsed": false
      },
      "outputs": [],
      "source": [
        "ex = 30e6  # Young's Modulus\nprxy = 0.27  # Poisson's ratio"
      ]
    },
    {
      "cell_type": "markdown",
      "metadata": {},
      "source": [
        "Use the :meth:`mapdl.mp() <ansys.mapdl.core.Mapdl.mp>` command to\ndefine material properties in PyMAPDL.\n\n\n"
      ]
    },
    {
      "cell_type": "code",
      "execution_count": null,
      "metadata": {
        "collapsed": false
      },
      "outputs": [],
      "source": [
        "mapdl.mp(\"EX\", 1, ex)\nmapdl.mp(\"PRXY\", 1, prxy)"
      ]
    },
    {
      "cell_type": "markdown",
      "metadata": {},
      "source": [
        "### Define element types and options\n\nYou use the :meth:`mapdl.et() <ansys.mapdl.core.Mapdl.et>` command to select an element .\n\nIn any analysis, you select elements from a library of element types and\ndefine the appropriate ones for the analysis. In this case, only one element\ntype is used: [PLANE183](elem_plane183_), a 2D, quadratic, structural,\nhigher-order element.\n\nA higher-order element enables you to have a coarser mesh than with lower-order\nelements while still maintaining solution accuracy. Also, Mechanical APDL\ngenerates some triangle-shaped elements in the mesh that would otherwise be\ninaccurate when using lower-order elements.\n\n\n#### Options for `PLANE183`\n\nSpecify plane stress with thickness as an option for [PLANE183](elem_plane183_).\n(Thickness is defined as a real constant in `Define real constants`_).\nSelect plane stress with the thickness option for the element behavior.\nThe thickness option is set using the element keyoption 3.  For more\ninformation, see the [PLANE183](elem_plane183_) element definition in the\nAnsys Help.\n\n\n"
      ]
    },
    {
      "cell_type": "code",
      "execution_count": null,
      "metadata": {
        "collapsed": false
      },
      "outputs": [],
      "source": [
        "# define a ``PLANE183`` element type with thickness\nmapdl.et(1, \"PLANE183\", kop3=3)"
      ]
    },
    {
      "cell_type": "markdown",
      "metadata": {},
      "source": [
        "### Define real constants\n\nAssuming plane stress with thickness, enter the thickness as a real constant\nfor [PLANE183](elem_plane183_):\n\nYou use the :meth:`mapdl.r() <ansys.mapdl.core.Mapdl.r>` command to set real\nconstants.\n\n"
      ]
    },
    {
      "cell_type": "code",
      "execution_count": null,
      "metadata": {
        "collapsed": false
      },
      "outputs": [],
      "source": [
        "# Set element thickness\nthick = 0.5\nmapdl.r(1, thick)  # thickness of 0.5 length units)"
      ]
    },
    {
      "cell_type": "markdown",
      "metadata": {},
      "source": [
        "## Mesh\n\nYou can mesh the model without specifying mesh-size controls. If you are\nunsure of how to determine mesh density, you can allow Mechanical APDL to apply\na default mesh. For this model, however, you want to specify a global element size\nto control overall mesh density.\nSet global size control using the :meth:`mapdl.esize() <ansys.mapdl.core.Mapdl.esize>`\ncommand. Set a size of $0.5$ or a slightly smaller value to improve the mesh.\n\nMesh the areas using the :meth:`mapdl.amesh() <ansys.mapdl.core.Mapdl.amesh>` command.\nYour mesh may vary slightly from the mesh shown. You may see slightly different\nresults during postprocessing.\n\nNow you can use the :meth:`mapdl.eplot() <ansys.mapdl.core.Mapdl.eplot>` command to see the mesh.\n\n"
      ]
    },
    {
      "cell_type": "code",
      "execution_count": null,
      "metadata": {
        "collapsed": false
      },
      "outputs": [],
      "source": [
        "element_size = 0.5\nmapdl.esize(element_size)\nmapdl.amesh(bracket)\nmapdl.eplot(\n    vtk=True,\n    cpos=\"xy\",\n    show_edges=True,\n    show_axes=False,\n    line_width=2,\n    background=\"w\",\n)"
      ]
    },
    {
      "cell_type": "markdown",
      "metadata": {},
      "source": [
        "## Boundary conditions\n\nLoading is considered part of the\n:meth:`mapdl.solu() <ansys.mapdl.core.Mapdl.solu>` command or the solution processor in APDL.\nBut it can be also done in the preprocessor with\n:meth:`mapdl.prep7() <ansys.mapdl.core.Mapdl.prep7>` command.\n\nYou can activate the solution processor by calling the\n:class:`mapdl.solution() <ansys.mapdl.core.solution.Solution>` class,\nby using the :meth:`mapdl.slashsolu() <ansys.mapdl.core.Mapdl.slashsolu>`\ncommand, or by using :meth:`mapdl.run(\"/solu\") <ansys.mapdl.core.Mapdl.run>` to\ncall the APDL ``/SOLU`` command.\n\n\n"
      ]
    },
    {
      "cell_type": "code",
      "execution_count": null,
      "metadata": {
        "collapsed": false
      },
      "outputs": [],
      "source": [
        "mapdl.allsel()\nmapdl.solution()"
      ]
    },
    {
      "cell_type": "markdown",
      "metadata": {},
      "source": [
        "Set the analysis type with the\n:meth:`mapdl.antype() <ansys.mapdl.core.Mapdl.antype>` command.\n\n\n"
      ]
    },
    {
      "cell_type": "code",
      "execution_count": null,
      "metadata": {
        "collapsed": false
      },
      "outputs": [],
      "source": [
        "mapdl.antype(\"STATIC\")"
      ]
    },
    {
      "cell_type": "markdown",
      "metadata": {},
      "source": [
        "### Apply displacement constraints\nThis is where you add boundary conditions to the model. First, you want to fix\nthe model by setting a zero displacement at the first pin hole.\nYou can apply displacement constraints directly to lines.\n\nTo do this without the graphical interface, you would need to replot the lines.\nOr you can use Booleans and generate the lines from the pin hole locations/box\nparameters.\nBy using the parameters that you have created, you can select the lines and fix one end\nof the bracket.\n\nPick the four lines around the left-hand hole using\nthe :meth:`mapdl.lsel() <ansys.mapdl.core.Mapdl.lsel>` command and\nthe ``pinehole1`` parameters.\n\n\n"
      ]
    },
    {
      "cell_type": "code",
      "execution_count": null,
      "metadata": {
        "collapsed": false
      },
      "outputs": [],
      "source": [
        "bc1 = mapdl.lsel(\n    \"S\", \"LOC\", \"X\", pinhole1_X - pinhole_radius, pinhole1_X + pinhole_radius\n)\nprint(f\"Number of lines selected : {len(bc1)}\")"
      ]
    },
    {
      "cell_type": "markdown",
      "metadata": {},
      "source": [
        "Then for loading, select and apply the boundary condition to the nodes attached\nto those lines using the :meth:`mapdl.nsll() <ansys.mapdl.core.Mapdl.nsll>` command.\n\n\n"
      ]
    },
    {
      "cell_type": "code",
      "execution_count": null,
      "metadata": {
        "collapsed": false
      },
      "outputs": [],
      "source": [
        "fixNodes = mapdl.nsll(type_=\"S\")"
      ]
    },
    {
      "cell_type": "markdown",
      "metadata": {},
      "source": [
        "Next use the :meth:`mapdl.d() <ansys.mapdl.core.Mapdl.d>` command to set\nthe displacement to zero (fixed constraint).\n\n\n"
      ]
    },
    {
      "cell_type": "code",
      "execution_count": null,
      "metadata": {
        "collapsed": false
      },
      "outputs": [],
      "source": [
        "# Set up boundary conditions\nmapdl.d(\"ALL\", \"ALL\", 0)  # The 0 is not required since default is zero\n\n# Selecting everything again\nmapdl.allsel()"
      ]
    },
    {
      "cell_type": "markdown",
      "metadata": {},
      "source": [
        "### Apply pressure load\n\nApply the tapered pressure load to the bottom-right pin hole. In this case,\ntapered means varying linearly.\nWhen a circle is created in Mechanical APDL, four lines define the perimeter;\ntherefore, apply the pressure to two lines making up the lower half of the circle.\nBecause the pressure tapers from a maximum value (500 psi) at the bottom of the\ncircle to a minimum value (50 psi) at the sides, apply pressure in two separate\nsteps, with reverse tapering values for each line.\n\n\n"
      ]
    },
    {
      "cell_type": "code",
      "execution_count": null,
      "metadata": {
        "collapsed": false
      },
      "outputs": [],
      "source": [
        "p1 = 50\np2 = 500"
      ]
    },
    {
      "cell_type": "markdown",
      "metadata": {},
      "source": [
        "The Mechanical APDL convention for pressure loading is that a positive load\nvalue represents pressure into the surface (compressive).\n\nTo pick the line, use the same :meth:`mapdl.lsel() <ansys.mapdl.core.Mapdl.lsel>`\ncommand used in the previous cell block and then convert the lines\nto a nodal selection with the :meth:`mapdl.nsel() <ansys.mapdl.core.Mapdl.nsel>`\ncommand.\n\nNote we have a slightly more complicated picking procedure for the two quarters\nof the full circle. A method to select the lines would be to select the lower\nhalf of the second pinhole circle.\n\n\n"
      ]
    },
    {
      "cell_type": "code",
      "execution_count": null,
      "metadata": {
        "collapsed": false
      },
      "outputs": [],
      "source": [
        "mapdl.lsel(\"S\", \"LOC\", \"Y\", pinhole2_Y - pinhole_radius, pinhole2_Y)"
      ]
    },
    {
      "cell_type": "markdown",
      "metadata": {},
      "source": [
        "Now repick from that selection the lines that are less than the X center of that pin hole.\n\n\n"
      ]
    },
    {
      "cell_type": "code",
      "execution_count": null,
      "metadata": {
        "collapsed": false
      },
      "outputs": [],
      "source": [
        "mapdl.lsel(\"R\", \"LOC\", \"X\", 0, pinhole2_X)\n\nmapdl.lplot(vtk=True, cpos=\"xy\")"
      ]
    },
    {
      "cell_type": "markdown",
      "metadata": {},
      "source": [
        "Once you have the correct line, use\nthe :meth:`mapdl.sf() <ansys.mapdl.core.Mapdl.sf>` command\nto load the line with the varying surface load.\n\n\n"
      ]
    },
    {
      "cell_type": "code",
      "execution_count": null,
      "metadata": {
        "collapsed": false
      },
      "outputs": [],
      "source": [
        "# Here you load the left side of the lower half of second pin hole.\nmapdl.sf(\"ALL\", \"PRES\", p1, p2)\nmapdl.allsel()"
      ]
    },
    {
      "cell_type": "markdown",
      "metadata": {},
      "source": [
        "Repeat the procedure for the second pin hole.\n\n\n"
      ]
    },
    {
      "cell_type": "code",
      "execution_count": null,
      "metadata": {
        "collapsed": false
      },
      "outputs": [],
      "source": [
        "mapdl.lsel(\"S\", \"LOC\", \"Y\", pinhole2_Y - pinhole_radius, pinhole2_Y)\nmapdl.lsel(\"R\", \"LOC\", \"X\", pinhole2_X, pinhole2_X + pinhole_radius)\n\nmapdl.lplot(\n    vtk=True,\n    cpos=\"xy\",\n    show_line_numbering=True,\n)\n\nmapdl.sf(\"ALL\", \"PRES\", p2, p1)\nmapdl.allsel()"
      ]
    },
    {
      "cell_type": "markdown",
      "metadata": {},
      "source": [
        "## Solution\n\nTo solve an Ansys FE analysis, the solution processor must be activated,\nusing the :class:`mapdl.solution() <ansys.mapdl.core.solution.Solution>` class\nor the :meth:`mapdl.slashsolu() <ansys.mapdl.core.Mapdl.slashsolu>`\ncommand. This was done a few steps earlier.\n\nThe model is ready to be solved using the\n:meth:`mapdl.solve() <ansys.mapdl.core.Mapdl.solve>` command.\n\n\n"
      ]
    },
    {
      "cell_type": "code",
      "execution_count": null,
      "metadata": {
        "collapsed": false
      },
      "outputs": [],
      "source": [
        "# Solve the model\noutput = mapdl.solve()\nprint(output)"
      ]
    },
    {
      "cell_type": "markdown",
      "metadata": {},
      "source": [
        "Mechanical APDL stores the results of this single-load-step problem in the\ndatabase and in the results file, :file:`Jobname.RST` (or :file:`Jobname.RTH`\nfor thermal or :file:`Jobname.RMG` for magnetic). The database can contain only\none set of results at any given time, so in a multiple-load-step or\nmultiple-substep analysis, Mechanical APDL stores only the final solution in\nthe database.\n\nMechanical APDL stores all solutions in the results file.\n\n## Review the results\n\nThis step represents the beginning of the postprocessing phase.\n\n<div class=\"alert alert-info\"><h4>Note</h4><p>The results you see may vary slightly from what is shown due to variations in the mesh.</p></div>\n\n### Enter the postprocessor\nThe Ansys APDL postprocessor is a separate processor called with the\n:meth:`mapdl.post1() <ansys.mapdl.core.Mapdl.post1>` command.\n\n\n"
      ]
    },
    {
      "cell_type": "code",
      "execution_count": null,
      "metadata": {
        "collapsed": false
      },
      "outputs": [],
      "source": [
        "mapdl.post1()"
      ]
    },
    {
      "cell_type": "markdown",
      "metadata": {},
      "source": [
        "### Plot the deformed shape\nHere :class:`mapdl.result <ansys.mapdl.core.Mapdl.result>` is used to retrieve\nthe results and for plotting.\n\n\n"
      ]
    },
    {
      "cell_type": "code",
      "execution_count": null,
      "metadata": {
        "collapsed": false
      },
      "outputs": [],
      "source": [
        "# Plot displacement\nresult = mapdl.result\nresult_set = 0  # Plotting the first results\ndisp_fact = 1e10\nresult.plot_nodal_displacement(\n    result_set,\n    cpos=\"xy\",\n    displacement_factor=5,\n    show_displacement=True,\n    show_edges=True,\n)"
      ]
    },
    {
      "cell_type": "markdown",
      "metadata": {},
      "source": [
        "### Plot the von Mises equivalent stress\n\nYou can also generate stress plots using\nthe :meth:`mapdl.plot_principal_nodal_stress() <ansys.mapdl.core.Mapdl.plot_principal_nodal_stress>` command.\n\n\n"
      ]
    },
    {
      "cell_type": "code",
      "execution_count": null,
      "metadata": {
        "collapsed": false
      },
      "outputs": [],
      "source": [
        "result.plot_principal_nodal_stress(\n    0,\n    \"SEQV\",\n    cpos=\"xy\",\n    background=\"w\",\n    text_color=\"k\",\n    add_text=True,\n    show_edges=True,\n)"
      ]
    },
    {
      "cell_type": "markdown",
      "metadata": {},
      "source": [
        "Obtain von Mises stresses.\n\n\n"
      ]
    },
    {
      "cell_type": "code",
      "execution_count": null,
      "metadata": {
        "collapsed": false
      },
      "outputs": [],
      "source": [
        "nnum, stress = result.principal_nodal_stress(0)\n\n# Von Mises stress is the last column in the stress results\nvon_mises = stress[:, -1]"
      ]
    },
    {
      "cell_type": "markdown",
      "metadata": {},
      "source": [
        "### List reaction solution\n\nTo list the FY reactions forces use the APDL\n:meth:`mapdl.prrsol() <ansys.mapdl.core.Mapdl.prrsol>` command which print\nthe constrained node reaction solution.\n\nYou can use the :meth:`to_dataframe <ansys.mapdl.core.commands.CommandListingOutput>`\ncommand to convert the output to a dataframe for more static print:\n\n"
      ]
    },
    {
      "cell_type": "code",
      "execution_count": null,
      "metadata": {
        "collapsed": false
      },
      "outputs": [],
      "source": [
        "reactForces = mapdl.prrsol(lab=\"FY\").to_dataframe(columns=[\"NODE\", \"FY\"])\nprint(reactForces)"
      ]
    },
    {
      "cell_type": "markdown",
      "metadata": {},
      "source": [
        "The values shown are representative and may vary from the values that you obtain.\nMany other options are available for reviewing results in the general postprocessor.\nYou can see some of these other options in other tutorials, such.\nas the [Ansys tutorial guide](ansys_tutorials_guide_).\n\n"
      ]
    },
    {
      "cell_type": "markdown",
      "metadata": {},
      "source": [
        "### Exit Mechanical APDL\nExit Mechanical APDL once you have finished.\n\n\n"
      ]
    },
    {
      "cell_type": "code",
      "execution_count": null,
      "metadata": {
        "collapsed": false
      },
      "outputs": [],
      "source": [
        "mapdl.exit()"
      ]
    },
    {
      "cell_type": "markdown",
      "metadata": {},
      "source": [
        "\n\n"
      ]
    }
  ],
  "metadata": {
    "kernelspec": {
      "display_name": "Python 3",
      "language": "python",
      "name": "python3"
    },
    "language_info": {
      "codemirror_mode": {
        "name": "ipython",
        "version": 3
      },
      "file_extension": ".py",
      "mimetype": "text/x-python",
      "name": "python",
      "nbconvert_exporter": "python",
      "pygments_lexer": "ipython3",
      "version": "3.10.16"
    }
  },
  "nbformat": 4,
  "nbformat_minor": 0
}
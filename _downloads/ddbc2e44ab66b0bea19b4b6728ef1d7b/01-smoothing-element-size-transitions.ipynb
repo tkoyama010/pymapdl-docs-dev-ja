{
  "cells": [
    {
      "cell_type": "markdown",
      "metadata": {},
      "source": [
        "\n\n# MAPDL Element Size Transition Example\n\nThis example shows you how to control the mesh density using PyMAPDL.\n\nThere are many cases in which you will want to control the density of the mesh nearby\na region of local high stresses (e.g. simulated crack, filleted bracket, etc.).\nThis usually introduces a sharp element size transition\nin the mesh. This example demonstrates one way to\nreduce this effect using a simple geometry.\n\nFirst, start MAPDL as a service.\n"
      ]
    },
    {
      "cell_type": "code",
      "execution_count": null,
      "metadata": {
        "collapsed": false
      },
      "outputs": [],
      "source": [
        "from ansys.mapdl.core import launch_mapdl\n\nmapdl = launch_mapdl()\nprint(mapdl)"
      ]
    },
    {
      "cell_type": "markdown",
      "metadata": {},
      "source": [
        "## The Geometry (a box)\nThis example uses very simple geometry. In this case, a 3D box with 4 sides.\nThe two remaining sides are open, and we have a rectangular tube. Its\ndimensions are 5 x 5 x 1. We create this using 8 keypoints and then\nbuilding 4 areas.\n\n\n"
      ]
    },
    {
      "cell_type": "code",
      "execution_count": null,
      "metadata": {
        "collapsed": false
      },
      "outputs": [],
      "source": [
        "mapdl.prep7()\n\nk0 = mapdl.k(1, 0, 0, 0)\nk1 = mapdl.k(2, 0, 5, 0)\nk2 = mapdl.k(3, 5, 5, 0)\nk3 = mapdl.k(4, 5, 0, 0)\n\nk4 = mapdl.k(5, 0, 0, 1)\nk5 = mapdl.k(6, 0, 5, 1)\nk6 = mapdl.k(7, 5, 5, 1)\nk7 = mapdl.k(8, 5, 0, 1)\n\na0 = mapdl.a(1, 2, 3, 4)\na1 = mapdl.a(5, 6, 7, 8)\na2 = mapdl.a(3, 4, 8, 7)\na3 = mapdl.a(1, 2, 6, 5)"
      ]
    },
    {
      "cell_type": "markdown",
      "metadata": {},
      "source": [
        "## Mesh size\nWe set the global mesh size to 0.7, but we're particularly interested in\nface ``a2``, so we set the element size of that face to 0.1. Then we just\nneed to specify an element type (we use ``SHELL181`` here) and mesh our geometry.\n\nAdditionally, we specify that we want triangular elements using ``mshape``.\nThis is purely to demonstrate the effect. This will work just as well\nfor a quadrilateral mesh.\n\n\n"
      ]
    },
    {
      "cell_type": "code",
      "execution_count": null,
      "metadata": {
        "collapsed": false
      },
      "outputs": [],
      "source": [
        "mapdl.esize(0.7)\nmapdl.aesize(a2, 0.1)\nmapdl.mshape(1, \"2D\")\n\nmapdl.et(1, \"SHELL181\")\nmapdl.amesh(\"ALL\")\nmapdl.eplot(show_edges=True, show_axes=False, line_width=2, background=\"w\")"
      ]
    },
    {
      "cell_type": "markdown",
      "metadata": {},
      "source": [
        "## Smoothing the transition\nThe mesh mostly looks fine, but we have quite a sharp transition in element\nsize along the edges of our focus area. This is likely undesirable because\nthese are corners and generally require a higher degree of accuracy. This\nis simple to remedy, however.\n\nTo do this, we need to take the keypoints that bound a2 and set their element\nsize to be 0.1 as well. This sets all elements near those keypoints to a size\nof 0.1 including elements not on ``a2`` itself. This spreads the transition away\nfrom the edges.\n\nTo demonstrate this we first clear our existing mesh using aclear. Then we use\nkesize to set the keypoint element sizes, and finally we remesh. The results\nare self-evident.\n\n\n"
      ]
    },
    {
      "cell_type": "code",
      "execution_count": null,
      "metadata": {
        "collapsed": false
      },
      "outputs": [],
      "source": [
        "mapdl.aclear(\"ALL\")\nfor k in [k2, k3, k6, k7]:\n    mapdl.kesize(k, 0.1)\nmapdl.amesh(\"ALL\")\nmapdl.eplot(show_edges=True, show_axes=False, line_width=2, background=\"w\")"
      ]
    },
    {
      "cell_type": "markdown",
      "metadata": {},
      "source": [
        "## Smoothing the transition into a2\nSimilarly, if we were happy to reduce the mesh size at the edges of ``a2``, we\ncould set the keypoint element sizes to be an intermediate value, which would\nshift the main location of the size transition to within the face of ``a2``.\n\n\n"
      ]
    },
    {
      "cell_type": "code",
      "execution_count": null,
      "metadata": {
        "collapsed": false
      },
      "outputs": [],
      "source": [
        "mapdl.aclear(\"ALL\")\nfor k in [k2, k3, k6, k7]:\n    mapdl.kesize(k, 0.2)\nmapdl.amesh(\"ALL\")\nmapdl.eplot(vtk=True, show_edges=True, show_axes=False, line_width=2, background=\"w\")"
      ]
    },
    {
      "cell_type": "markdown",
      "metadata": {},
      "source": [
        "## Stop mapdl\n\n\n"
      ]
    },
    {
      "cell_type": "code",
      "execution_count": null,
      "metadata": {
        "collapsed": false
      },
      "outputs": [],
      "source": [
        "mapdl.exit()"
      ]
    }
  ],
  "metadata": {
    "kernelspec": {
      "display_name": "Python 3",
      "language": "python",
      "name": "python3"
    },
    "language_info": {
      "codemirror_mode": {
        "name": "ipython",
        "version": 3
      },
      "file_extension": ".py",
      "mimetype": "text/x-python",
      "name": "python",
      "nbconvert_exporter": "python",
      "pygments_lexer": "ipython3",
      "version": "3.10.15"
    }
  },
  "nbformat": 4,
  "nbformat_minor": 0
}